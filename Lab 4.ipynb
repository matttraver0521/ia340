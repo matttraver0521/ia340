{
 "cells": [
  {
   "cell_type": "markdown",
   "id": "b811ac52",
   "metadata": {},
   "source": [
    "# import lib"
   ]
  },
  {
   "cell_type": "code",
   "execution_count": 35,
   "id": "089afc78",
   "metadata": {},
   "outputs": [],
   "source": [
    "import pandas\n",
    "import psycopg2\n",
    "import configparser"
   ]
  },
  {
   "cell_type": "markdown",
   "id": "63e4f319",
   "metadata": {},
   "source": [
    "# connect to db"
   ]
  },
  {
   "cell_type": "code",
   "execution_count": 36,
   "id": "d88f6985",
   "metadata": {},
   "outputs": [],
   "source": [
    "config = configparser.ConfigParser()\n",
    "config.read('config.ini')\n",
    "\n",
    "host=config['myaws']['host']\n",
    "db=config['myaws']['db']\n",
    "user=config['myaws']['user']\n",
    "pwd = config['myaws']['pwd']\n",
    "\n",
    "conn = psycopg2.connect(  host=host,\n",
    "                       user=user,\n",
    "                       password = pwd,\n",
    "                       dbname=db)"
   ]
  },
  {
   "cell_type": "code",
   "execution_count": 37,
   "id": "19f8d576",
   "metadata": {},
   "outputs": [],
   "source": [
    "cur=conn.cursor()"
   ]
  },
  {
   "cell_type": "markdown",
   "id": "ca1c10a5",
   "metadata": {},
   "source": [
    "# Q1"
   ]
  },
  {
   "cell_type": "code",
   "execution_count": 4,
   "id": "854cf932",
   "metadata": {},
   "outputs": [],
   "source": [
    "sql_q1=\"\"\"\n",
    "    select * from gp27.student\n",
    "    \"\"\""
   ]
  },
  {
   "cell_type": "code",
   "execution_count": 5,
   "id": "9fbc75a1",
   "metadata": {},
   "outputs": [
    {
     "data": {
      "text/html": [
       "<div>\n",
       "<style scoped>\n",
       "    .dataframe tbody tr th:only-of-type {\n",
       "        vertical-align: middle;\n",
       "    }\n",
       "\n",
       "    .dataframe tbody tr th {\n",
       "        vertical-align: top;\n",
       "    }\n",
       "\n",
       "    .dataframe thead th {\n",
       "        text-align: right;\n",
       "    }\n",
       "</style>\n",
       "<table border=\"1\" class=\"dataframe\">\n",
       "  <thead>\n",
       "    <tr style=\"text-align: right;\">\n",
       "      <th></th>\n",
       "      <th>s_email</th>\n",
       "      <th>s_name</th>\n",
       "      <th>major</th>\n",
       "    </tr>\n",
       "  </thead>\n",
       "  <tbody>\n",
       "    <tr>\n",
       "      <th>0</th>\n",
       "      <td>s1@jmu.edu</td>\n",
       "      <td>s1</td>\n",
       "      <td>IA</td>\n",
       "    </tr>\n",
       "    <tr>\n",
       "      <th>1</th>\n",
       "      <td>s2@jmu.edu</td>\n",
       "      <td>s2</td>\n",
       "      <td>IA</td>\n",
       "    </tr>\n",
       "    <tr>\n",
       "      <th>2</th>\n",
       "      <td>s3@jmu.edu</td>\n",
       "      <td>s3</td>\n",
       "      <td>IA</td>\n",
       "    </tr>\n",
       "    <tr>\n",
       "      <th>3</th>\n",
       "      <td>s4@jmu.edu</td>\n",
       "      <td>s4</td>\n",
       "      <td>IA</td>\n",
       "    </tr>\n",
       "    <tr>\n",
       "      <th>4</th>\n",
       "      <td>s5@jmu.edu</td>\n",
       "      <td>s5</td>\n",
       "      <td>IA</td>\n",
       "    </tr>\n",
       "    <tr>\n",
       "      <th>5</th>\n",
       "      <td>s6@jmu.edu</td>\n",
       "      <td>s6</td>\n",
       "      <td>IA</td>\n",
       "    </tr>\n",
       "    <tr>\n",
       "      <th>6</th>\n",
       "      <td>s7@jmu.edu\\n</td>\n",
       "      <td>s7</td>\n",
       "      <td>IA</td>\n",
       "    </tr>\n",
       "    <tr>\n",
       "      <th>7</th>\n",
       "      <td>s8@jmu.edu</td>\n",
       "      <td>s8</td>\n",
       "      <td>IA</td>\n",
       "    </tr>\n",
       "    <tr>\n",
       "      <th>8</th>\n",
       "      <td>s9@jmu.edu</td>\n",
       "      <td>s9</td>\n",
       "      <td>IA</td>\n",
       "    </tr>\n",
       "    <tr>\n",
       "      <th>9</th>\n",
       "      <td>s10@jmu.edu</td>\n",
       "      <td>s10</td>\n",
       "      <td>IA</td>\n",
       "    </tr>\n",
       "  </tbody>\n",
       "</table>\n",
       "</div>"
      ],
      "text/plain": [
       "        s_email s_name major\n",
       "0    s1@jmu.edu     s1    IA\n",
       "1    s2@jmu.edu     s2    IA\n",
       "2    s3@jmu.edu     s3    IA\n",
       "3    s4@jmu.edu     s4    IA\n",
       "4    s5@jmu.edu     s5    IA\n",
       "5    s6@jmu.edu     s6    IA\n",
       "6  s7@jmu.edu\\n     s7    IA\n",
       "7    s8@jmu.edu     s8    IA\n",
       "8    s9@jmu.edu     s9    IA\n",
       "9   s10@jmu.edu    s10    IA"
      ]
     },
     "execution_count": 5,
     "metadata": {},
     "output_type": "execute_result"
    }
   ],
   "source": [
    "df_student=pandas.read_sql_query('select * from gp27.student',conn)\n",
    "df_student[:]"
   ]
  },
  {
   "cell_type": "markdown",
   "id": "9fb94e59",
   "metadata": {},
   "source": [
    "# Q2"
   ]
  },
  {
   "cell_type": "code",
   "execution_count": 7,
   "id": "59427257",
   "metadata": {},
   "outputs": [],
   "source": [
    "sql_q2=\"\"\"\n",
    "    select gp27.professor.p_name,\n",
    "            gp27.course.c_name\n",
    "    from gp27.professor\n",
    "    inner join gp27.course\n",
    "on gp27.professor.p_email = gp27.course.p_email \n",
    "    \"\"\""
   ]
  },
  {
   "cell_type": "code",
   "execution_count": 8,
   "id": "40bac933",
   "metadata": {},
   "outputs": [
    {
     "data": {
      "text/html": [
       "<div>\n",
       "<style scoped>\n",
       "    .dataframe tbody tr th:only-of-type {\n",
       "        vertical-align: middle;\n",
       "    }\n",
       "\n",
       "    .dataframe tbody tr th {\n",
       "        vertical-align: top;\n",
       "    }\n",
       "\n",
       "    .dataframe thead th {\n",
       "        text-align: right;\n",
       "    }\n",
       "</style>\n",
       "<table border=\"1\" class=\"dataframe\">\n",
       "  <thead>\n",
       "    <tr style=\"text-align: right;\">\n",
       "      <th></th>\n",
       "      <th>p_name</th>\n",
       "      <th>c_name</th>\n",
       "    </tr>\n",
       "  </thead>\n",
       "  <tbody>\n",
       "    <tr>\n",
       "      <th>0</th>\n",
       "      <td>xuebin wei</td>\n",
       "      <td>Data Mining</td>\n",
       "    </tr>\n",
       "    <tr>\n",
       "      <th>1</th>\n",
       "      <td>noel hendrickson</td>\n",
       "      <td>counterfactual</td>\n",
       "    </tr>\n",
       "    <tr>\n",
       "      <th>2</th>\n",
       "      <td>timothy walton</td>\n",
       "      <td>counter_terror</td>\n",
       "    </tr>\n",
       "    <tr>\n",
       "      <th>3</th>\n",
       "      <td>Stephen Marrin</td>\n",
       "      <td>sem_ia</td>\n",
       "    </tr>\n",
       "    <tr>\n",
       "      <th>4</th>\n",
       "      <td>MR Teacher</td>\n",
       "      <td>IA Stuff</td>\n",
       "    </tr>\n",
       "  </tbody>\n",
       "</table>\n",
       "</div>"
      ],
      "text/plain": [
       "             p_name          c_name\n",
       "0        xuebin wei     Data Mining\n",
       "1  noel hendrickson  counterfactual\n",
       "2    timothy walton  counter_terror\n",
       "3    Stephen Marrin          sem_ia\n",
       "4        MR Teacher        IA Stuff"
      ]
     },
     "execution_count": 8,
     "metadata": {},
     "output_type": "execute_result"
    }
   ],
   "source": [
    "df_student=pandas.read_sql_query(sql_q2,conn)\n",
    "df_student[:]"
   ]
  },
  {
   "cell_type": "markdown",
   "id": "3d15cd03",
   "metadata": {},
   "source": [
    "# Q3"
   ]
  },
  {
   "cell_type": "code",
   "execution_count": 14,
   "id": "83939412",
   "metadata": {},
   "outputs": [],
   "source": [
    "sql_q3=\"\"\"\n",
    "    select c_number, count (*) as num_enrolled\n",
    "    from gp27.enroll_list\n",
    "    group by c_number\n",
    "    order by num_enrolled  \n",
    "    \"\"\""
   ]
  },
  {
   "cell_type": "code",
   "execution_count": 16,
   "id": "2216938f",
   "metadata": {},
   "outputs": [
    {
     "data": {
      "text/plain": [
       "<AxesSubplot:xlabel='c_number'>"
      ]
     },
     "execution_count": 16,
     "metadata": {},
     "output_type": "execute_result"
    },
    {
     "data": {
      "image/png": "[encoded data removed]",
      "text/plain": [
       "<Figure size 432x288 with 1 Axes>"
      ]
     },
     "metadata": {
      "needs_background": "light"
     },
     "output_type": "display_data"
    }
   ],
   "source": [
    "df_price=pandas.read_sql_query(sql_q3,conn)\n",
    "\n",
    "df_price.plot.bar(x='c_number',y='num_enrolled')"
   ]
  },
  {
   "cell_type": "markdown",
   "id": "90e88ee2",
   "metadata": {},
   "source": [
    "# Q4 "
   ]
  },
  {
   "cell_type": "code",
   "execution_count": 19,
   "id": "c618614f",
   "metadata": {},
   "outputs": [],
   "source": [
    "sql_q4= \"\"\"\n",
    "                select gp27.professor.p_name,\n",
    "                count (*) as num_teaching\n",
    "                from gp27.professor\n",
    "                inner join gp27.course\n",
    "                on gp27.professor.p_email = gp27.course.p_email\n",
    "                group by gp27.professor.p_name\n",
    "                order by num_teaching \n",
    "                \"\"\""
   ]
  },
  {
   "cell_type": "code",
   "execution_count": 20,
   "id": "788b09e6",
   "metadata": {},
   "outputs": [
    {
     "data": {
      "text/plain": [
       "<AxesSubplot:xlabel='p_name'>"
      ]
     },
     "execution_count": 20,
     "metadata": {},
     "output_type": "execute_result"
    },
    {
     "data": {
      "image/png": "[encoded data removed]",
      "text/plain": [
       "<Figure size 432x288 with 1 Axes>"
      ]
     },
     "metadata": {
      "needs_background": "light"
     },
     "output_type": "display_data"
    }
   ],
   "source": [
    "df_price=pandas.read_sql_query(sql_q4,conn)\n",
    "\n",
    "df_price.plot.bar(x='p_name',y='num_teaching')"
   ]
  },
  {
   "cell_type": "markdown",
   "id": "b9611a7f",
   "metadata": {},
   "source": [
    "# Q 5"
   ]
  },
  {
   "cell_type": "code",
   "execution_count": 26,
   "id": "1b3777e9",
   "metadata": {},
   "outputs": [],
   "source": [
    "sql_q5= \"\"\"\n",
    "                insert into gp27.professor(p_email,p_name,office)\n",
    "                values ('MRteacher@jmu.edu','MR Teacher','ISAT2715')\n",
    "                \"\"\""
   ]
  },
  {
   "cell_type": "code",
   "execution_count": 27,
   "id": "81b3b000",
   "metadata": {},
   "outputs": [
    {
     "ename": "ProgrammingError",
     "evalue": "syntax error at or near \"select\"\nLINE 4:                 select (*) from gp27.professor \n                        ^\n",
     "output_type": "error",
     "traceback": [
      "\u001b[0;31m---------------------------------------------------------------------------\u001b[0m",
      "\u001b[0;31mProgrammingError\u001b[0m                          Traceback (most recent call last)",
      "\u001b[0;32m<ipython-input-27-5a23b03bfc5a>\u001b[0m in \u001b[0;36m<module>\u001b[0;34m\u001b[0m\n\u001b[0;32m----> 1\u001b[0;31m \u001b[0mcur\u001b[0m\u001b[0;34m.\u001b[0m\u001b[0mexecute\u001b[0m\u001b[0;34m(\u001b[0m\u001b[0msql_q5\u001b[0m\u001b[0;34m)\u001b[0m\u001b[0;34m\u001b[0m\u001b[0;34m\u001b[0m\u001b[0m\n\u001b[0m",
      "\u001b[0;31mProgrammingError\u001b[0m: syntax error at or near \"select\"\nLINE 4:                 select (*) from gp27.professor \n                        ^\n"
     ]
    }
   ],
   "source": [
    "cur.execute(sql_q5)"
   ]
  },
  {
   "cell_type": "code",
   "execution_count": 28,
   "id": "2d9fc1fc",
   "metadata": {},
   "outputs": [],
   "source": [
    "conn.rollback()"
   ]
  },
  {
   "cell_type": "code",
   "execution_count": 29,
   "id": "480467bc",
   "metadata": {},
   "outputs": [],
   "source": [
    "sql_q5= \"\"\"\n",
    "                insert into gp27.professor(p_email,p_name,office)\n",
    "                values ('MRteacher@jmu.edu','MR Teacher','ISAT2715')\n",
    "                \"\"\""
   ]
  },
  {
   "cell_type": "code",
   "execution_count": 41,
   "id": "4904b2b8",
   "metadata": {},
   "outputs": [
    {
     "ename": "IntegrityError",
     "evalue": "duplicate key value violates unique constraint \"professor_pkey\"\nDETAIL:  Key (p_email)=(MRteacherLab4@jmu.edu) already exists.\n",
     "output_type": "error",
     "traceback": [
      "\u001b[0;31m---------------------------------------------------------------------------\u001b[0m",
      "\u001b[0;31mIntegrityError\u001b[0m                            Traceback (most recent call last)",
      "\u001b[0;32m<ipython-input-41-5a23b03bfc5a>\u001b[0m in \u001b[0;36m<module>\u001b[0;34m\u001b[0m\n\u001b[0;32m----> 1\u001b[0;31m \u001b[0mcur\u001b[0m\u001b[0;34m.\u001b[0m\u001b[0mexecute\u001b[0m\u001b[0;34m(\u001b[0m\u001b[0msql_q5\u001b[0m\u001b[0;34m)\u001b[0m\u001b[0;34m\u001b[0m\u001b[0;34m\u001b[0m\u001b[0m\n\u001b[0m",
      "\u001b[0;31mIntegrityError\u001b[0m: duplicate key value violates unique constraint \"professor_pkey\"\nDETAIL:  Key (p_email)=(MRteacherLab4@jmu.edu) already exists.\n"
     ]
    }
   ],
   "source": [
    "cur.execute(sql_q5)"
   ]
  },
  {
   "cell_type": "code",
   "execution_count": 31,
   "id": "78a1bba4",
   "metadata": {},
   "outputs": [],
   "source": [
    "conn.rollback()"
   ]
  },
  {
   "cell_type": "code",
   "execution_count": 32,
   "id": "09f3c2fc",
   "metadata": {},
   "outputs": [],
   "source": [
    "sql_q5= \"\"\"\n",
    "                insert into gp27.professor(p_email,p_name,office)\n",
    "                values ('MRteacherLab4@jmu.edu','MR Teacher Lab 4','ISAT0521')\n",
    "                \"\"\""
   ]
  },
  {
   "cell_type": "code",
   "execution_count": 33,
   "id": "11a1698f",
   "metadata": {},
   "outputs": [],
   "source": [
    "cur.execute(sql_q5)"
   ]
  },
  {
   "cell_type": "code",
   "execution_count": 34,
   "id": "1c63fbb7",
   "metadata": {},
   "outputs": [],
   "source": [
    "conn.commit()"
   ]
  },
  {
   "cell_type": "code",
   "execution_count": 40,
   "id": "98c41e67",
   "metadata": {},
   "outputs": [
    {
     "data": {
      "text/html": [
       "<div>\n",
       "<style scoped>\n",
       "    .dataframe tbody tr th:only-of-type {\n",
       "        vertical-align: middle;\n",
       "    }\n",
       "\n",
       "    .dataframe tbody tr th {\n",
       "        vertical-align: top;\n",
       "    }\n",
       "\n",
       "    .dataframe thead th {\n",
       "        text-align: right;\n",
       "    }\n",
       "</style>\n",
       "<table border=\"1\" class=\"dataframe\">\n",
       "  <thead>\n",
       "    <tr style=\"text-align: right;\">\n",
       "      <th></th>\n",
       "      <th>p_email</th>\n",
       "      <th>p_name</th>\n",
       "      <th>office</th>\n",
       "    </tr>\n",
       "  </thead>\n",
       "  <tbody>\n",
       "    <tr>\n",
       "      <th>0</th>\n",
       "      <td>weixx@jmu.edu</td>\n",
       "      <td>xuebin wei</td>\n",
       "      <td>hhs112</td>\n",
       "    </tr>\n",
       "    <tr>\n",
       "      <th>1</th>\n",
       "      <td>hendrinx@jmu.edu</td>\n",
       "      <td>noel hendrickson</td>\n",
       "      <td>Virtual</td>\n",
       "    </tr>\n",
       "    <tr>\n",
       "      <th>2</th>\n",
       "      <td>waltontr@jmu.edu</td>\n",
       "      <td>timothy walton</td>\n",
       "      <td>hhs326</td>\n",
       "    </tr>\n",
       "    <tr>\n",
       "      <th>3</th>\n",
       "      <td>marrinsp@jmu.edu</td>\n",
       "      <td>Stephen Marrin</td>\n",
       "      <td>engeo 2104</td>\n",
       "    </tr>\n",
       "    <tr>\n",
       "      <th>4</th>\n",
       "      <td>MRteacher@jmu.edu</td>\n",
       "      <td>MR Teacher</td>\n",
       "      <td>ISAT2715</td>\n",
       "    </tr>\n",
       "    <tr>\n",
       "      <th>5</th>\n",
       "      <td>MRteacherLab4@jmu.edu</td>\n",
       "      <td>MR Teacher Lab 4</td>\n",
       "      <td>ISAT0521</td>\n",
       "    </tr>\n",
       "  </tbody>\n",
       "</table>\n",
       "</div>"
      ],
      "text/plain": [
       "                 p_email            p_name      office\n",
       "0          weixx@jmu.edu        xuebin wei      hhs112\n",
       "1       hendrinx@jmu.edu  noel hendrickson     Virtual\n",
       "2       waltontr@jmu.edu    timothy walton      hhs326\n",
       "3       marrinsp@jmu.edu    Stephen Marrin  engeo 2104\n",
       "4      MRteacher@jmu.edu        MR Teacher    ISAT2715\n",
       "5  MRteacherLab4@jmu.edu  MR Teacher Lab 4    ISAT0521"
      ]
     },
     "execution_count": 40,
     "metadata": {},
     "output_type": "execute_result"
    }
   ],
   "source": [
    "df_student=pandas.read_sql_query('select * from gp27.professor',conn)\n",
    "df_student[:]"
   ]
  },
  {
   "cell_type": "markdown",
   "id": "5cff4bca",
   "metadata": {},
   "source": [
    "# Q6 "
   ]
  },
  {
   "cell_type": "code",
   "execution_count": 50,
   "id": "4b2d2a72",
   "metadata": {},
   "outputs": [],
   "source": [
    "sql_q6= \"\"\"\n",
    "                update gp27.course\n",
    "                set p_email ='MRteacherLab4@jmu.edu'\n",
    "                where p_email ='MRteacher@jmu.edu'\n",
    "                \"\"\""
   ]
  },
  {
   "cell_type": "code",
   "execution_count": 51,
   "id": "b3aad0f4",
   "metadata": {},
   "outputs": [],
   "source": [
    "cur.execute(sql_q6)"
   ]
  },
  {
   "cell_type": "code",
   "execution_count": 52,
   "id": "a8d48501",
   "metadata": {},
   "outputs": [],
   "source": [
    "conn.rollback()"
   ]
  },
  {
   "cell_type": "code",
   "execution_count": 53,
   "id": "84d0f9a7",
   "metadata": {},
   "outputs": [],
   "source": [
    "conn.commit()"
   ]
  },
  {
   "cell_type": "code",
   "execution_count": 54,
   "id": "fd1d4443",
   "metadata": {},
   "outputs": [],
   "source": [
    "sql_q6_2= \"\"\"\n",
    "                delete from gp27.professor\n",
    "                where p_email ='MRteacher@jmu.edu'\n",
    "                \"\"\""
   ]
  },
  {
   "cell_type": "code",
   "execution_count": 55,
   "id": "866ef29c",
   "metadata": {},
   "outputs": [],
   "source": [
    "cur.execute(sql_q6_2)"
   ]
  },
  {
   "cell_type": "code",
   "execution_count": 56,
   "id": "efd6c67f",
   "metadata": {},
   "outputs": [],
   "source": [
    "conn.commit()"
   ]
  },
  {
   "cell_type": "code",
   "execution_count": 58,
   "id": "5dcd5dda",
   "metadata": {},
   "outputs": [
    {
     "data": {
      "text/html": [
       "<div>\n",
       "<style scoped>\n",
       "    .dataframe tbody tr th:only-of-type {\n",
       "        vertical-align: middle;\n",
       "    }\n",
       "\n",
       "    .dataframe tbody tr th {\n",
       "        vertical-align: top;\n",
       "    }\n",
       "\n",
       "    .dataframe thead th {\n",
       "        text-align: right;\n",
       "    }\n",
       "</style>\n",
       "<table border=\"1\" class=\"dataframe\">\n",
       "  <thead>\n",
       "    <tr style=\"text-align: right;\">\n",
       "      <th></th>\n",
       "      <th>c_number</th>\n",
       "      <th>c_name</th>\n",
       "      <th>room</th>\n",
       "      <th>p_email</th>\n",
       "    </tr>\n",
       "  </thead>\n",
       "  <tbody>\n",
       "    <tr>\n",
       "      <th>0</th>\n",
       "      <td>IA340</td>\n",
       "      <td>Data Mining</td>\n",
       "      <td>hhs112</td>\n",
       "      <td>weixx@jmu.edu</td>\n",
       "    </tr>\n",
       "    <tr>\n",
       "      <th>1</th>\n",
       "      <td>IA313</td>\n",
       "      <td>counterfactual</td>\n",
       "      <td>Virtual</td>\n",
       "      <td>hendrinx@jmu.edu</td>\n",
       "    </tr>\n",
       "    <tr>\n",
       "      <th>2</th>\n",
       "      <td>IA 365</td>\n",
       "      <td>counter_terror</td>\n",
       "      <td>hss 326</td>\n",
       "      <td>waltontr@jmu.edu</td>\n",
       "    </tr>\n",
       "    <tr>\n",
       "      <th>3</th>\n",
       "      <td>IA300</td>\n",
       "      <td>sem_ia</td>\n",
       "      <td>engeo 2104</td>\n",
       "      <td>marrinsp@jmu.edu</td>\n",
       "    </tr>\n",
       "    <tr>\n",
       "      <th>4</th>\n",
       "      <td>IA 500</td>\n",
       "      <td>IA Stuff</td>\n",
       "      <td>ISAT2715</td>\n",
       "      <td>MRteacherLab4@jmu.edu</td>\n",
       "    </tr>\n",
       "  </tbody>\n",
       "</table>\n",
       "</div>"
      ],
      "text/plain": [
       "  c_number          c_name        room                p_email\n",
       "0    IA340     Data Mining      hhs112          weixx@jmu.edu\n",
       "1    IA313  counterfactual     Virtual       hendrinx@jmu.edu\n",
       "2   IA 365  counter_terror     hss 326       waltontr@jmu.edu\n",
       "3    IA300          sem_ia  engeo 2104       marrinsp@jmu.edu\n",
       "4   IA 500        IA Stuff    ISAT2715  MRteacherLab4@jmu.edu"
      ]
     },
     "execution_count": 58,
     "metadata": {},
     "output_type": "execute_result"
    }
   ],
   "source": [
    "df_student=pandas.read_sql_query('select * from gp27.course',conn)\n",
    "df_student[:]"
   ]
  },
  {
   "cell_type": "code",
   "execution_count": 59,
   "id": "fdf54cef",
   "metadata": {},
   "outputs": [
    {
     "data": {
      "text/html": [
       "<div>\n",
       "<style scoped>\n",
       "    .dataframe tbody tr th:only-of-type {\n",
       "        vertical-align: middle;\n",
       "    }\n",
       "\n",
       "    .dataframe tbody tr th {\n",
       "        vertical-align: top;\n",
       "    }\n",
       "\n",
       "    .dataframe thead th {\n",
       "        text-align: right;\n",
       "    }\n",
       "</style>\n",
       "<table border=\"1\" class=\"dataframe\">\n",
       "  <thead>\n",
       "    <tr style=\"text-align: right;\">\n",
       "      <th></th>\n",
       "      <th>p_email</th>\n",
       "      <th>p_name</th>\n",
       "      <th>office</th>\n",
       "    </tr>\n",
       "  </thead>\n",
       "  <tbody>\n",
       "    <tr>\n",
       "      <th>0</th>\n",
       "      <td>weixx@jmu.edu</td>\n",
       "      <td>xuebin wei</td>\n",
       "      <td>hhs112</td>\n",
       "    </tr>\n",
       "    <tr>\n",
       "      <th>1</th>\n",
       "      <td>hendrinx@jmu.edu</td>\n",
       "      <td>noel hendrickson</td>\n",
       "      <td>Virtual</td>\n",
       "    </tr>\n",
       "    <tr>\n",
       "      <th>2</th>\n",
       "      <td>waltontr@jmu.edu</td>\n",
       "      <td>timothy walton</td>\n",
       "      <td>hhs326</td>\n",
       "    </tr>\n",
       "    <tr>\n",
       "      <th>3</th>\n",
       "      <td>marrinsp@jmu.edu</td>\n",
       "      <td>Stephen Marrin</td>\n",
       "      <td>engeo 2104</td>\n",
       "    </tr>\n",
       "    <tr>\n",
       "      <th>4</th>\n",
       "      <td>MRteacherLab4@jmu.edu</td>\n",
       "      <td>MR Teacher Lab 4</td>\n",
       "      <td>ISAT0521</td>\n",
       "    </tr>\n",
       "  </tbody>\n",
       "</table>\n",
       "</div>"
      ],
      "text/plain": [
       "                 p_email            p_name      office\n",
       "0          weixx@jmu.edu        xuebin wei      hhs112\n",
       "1       hendrinx@jmu.edu  noel hendrickson     Virtual\n",
       "2       waltontr@jmu.edu    timothy walton      hhs326\n",
       "3       marrinsp@jmu.edu    Stephen Marrin  engeo 2104\n",
       "4  MRteacherLab4@jmu.edu  MR Teacher Lab 4    ISAT0521"
      ]
     },
     "execution_count": 59,
     "metadata": {},
     "output_type": "execute_result"
    }
   ],
   "source": [
    "df_student=pandas.read_sql_query('select * from gp27.professor',conn)\n",
    "df_student[:]"
   ]
  },
  {
   "cell_type": "code",
   "execution_count": 38,
   "id": "4673f6d7",
   "metadata": {},
   "outputs": [],
   "source": [
    "cur.close()"
   ]
  },
  {
   "cell_type": "code",
   "execution_count": 39,
   "id": "3c0f337f",
   "metadata": {},
   "outputs": [],
   "source": [
    "conn.close()"
   ]
  },
  {
   "cell_type": "code",
   "execution_count": null,
   "id": "cd25a25b",
   "metadata": {},
   "outputs": [],
   "source": []
  }
 ],
 "metadata": {
  "kernelspec": {
   "display_name": "conda_python3",
   "language": "python",
   "name": "conda_python3"
  },
  "language_info": {
   "codemirror_mode": {
    "name": "ipython",
    "version": 3
   },
   "file_extension": ".py",
   "mimetype": "text/x-python",
   "name": "python",
   "nbconvert_exporter": "python",
   "pygments_lexer": "ipython3",
   "version": "3.6.13"
  }
 },
 "nbformat": 4,
 "nbformat_minor": 5
}
